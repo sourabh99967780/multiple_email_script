{
 "cells": [
  {
   "cell_type": "code",
   "execution_count": 7,
   "metadata": {},
   "outputs": [],
   "source": [
    "import smtplib\n",
    "from email.mime.multipart import MIMEMultipart\n",
    "from email.mime.text import MIMEText\n",
    "from email import encoders\n",
    "from email.mime.base import MIMEBase\n",
    "import ntpath"
   ]
  },
  {
   "cell_type": "code",
   "execution_count": 8,
   "metadata": {},
   "outputs": [],
   "source": [
    "def email(fromaddress,password,toaddress,subject,body,attachment_path):\n",
    "    smtp_server = fromaddress[fromaddress.index('@')+1:]\n",
    "    smtp_obj = smtplib.SMTP(\"smtp.gmail.com\",587)\n",
    "    msg = MIMEMultipart()\n",
    "    msg['From'] = fromaddress\n",
    "    msg['To'] = toaddress\n",
    "    msg['Subject'] = subject\n",
    "    msg.attach(MIMEText(body,'plain'))\n",
    "    # path should be small like not more than this \"D:\\\\Email_python\\certificate.jpg\"\n",
    "    filename = ntpath.basename(attachment_path)\n",
    "    attachment = open(attachment_path,\"rb\")\n",
    "    base_obj = MIMEBase('application','octet_stream')\n",
    "    base_obj.set_payload((attachment).read())\n",
    "    encoders.encode_base64(base_obj)\n",
    "    base_obj.add_header('Content-Disposition',\"attachement;filename = %s\" % filename)\n",
    "    msg.attach(base_obj)\n",
    "    smtp_obj.starttls()\n",
    "    smtp_obj.login(fromaddress,password)\n",
    "    text = msg.as_string()\n",
    "    smtp_obj.sendmail(fromaddress,toaddress,text)\n",
    "    smtp_obj.quit()"
   ]
  },
  {
   "cell_type": "code",
   "execution_count": 9,
   "metadata": {},
   "outputs": [],
   "source": [
    "# reading email list and filenames\n",
    "import pandas as pd\n",
    "dataset = pd.read_excel(\"email_list.xlsx\",header = None)"
   ]
  },
  {
   "cell_type": "code",
   "execution_count": 10,
   "metadata": {},
   "outputs": [
    {
     "data": {
      "text/plain": [
       "(array(['Sourabh Kumar', 'Nishant Raj', 'Sourabh Kumar 1', 'Surbhi Kumari',\n",
       "        'Sourabh Kumar 2', 'SK Singh'], dtype=object),\n",
       " array(['sourabhkumar251@gmail.com', 'nishantraj515@gmail.com',\n",
       "        'itsmesourabh05@live.com', 'itsmesurbhi27@gmail.com',\n",
       "        'sourabh99967780@gmail.com', 'mailboxsksingh@gmail.com'],\n",
       "       dtype=object))"
      ]
     },
     "execution_count": 10,
     "metadata": {},
     "output_type": "execute_result"
    }
   ],
   "source": [
    "file_names = dataset.iloc[:,0].values\n",
    "email_ids = dataset.iloc[:,1].values\n",
    "file_names,email_ids"
   ]
  },
  {
   "cell_type": "code",
   "execution_count": 11,
   "metadata": {},
   "outputs": [],
   "source": [
    "# Mention your email id and password\n",
    "your_email_address = \"sourabh99967780@gmail.com\"\n",
    "password = \"Sk@051098\"\n",
    "subject = \"test_mail\""
   ]
  },
  {
   "cell_type": "code",
   "execution_count": 13,
   "metadata": {},
   "outputs": [],
   "source": [
    "for i in range(len(file_names)):\n",
    "    body_of_email = \"Hello \" + file_names[i]\n",
    "    email(your_email_address,password,email_ids[i],subject,body_of_email,file_names[i] + \".jpg\")"
   ]
  }
 ],
 "metadata": {
  "kernelspec": {
   "display_name": "Python 3",
   "language": "python",
   "name": "python3"
  },
  "language_info": {
   "codemirror_mode": {
    "name": "ipython",
    "version": 3
   },
   "file_extension": ".py",
   "mimetype": "text/x-python",
   "name": "python",
   "nbconvert_exporter": "python",
   "pygments_lexer": "ipython3",
   "version": "3.6.7"
  }
 },
 "nbformat": 4,
 "nbformat_minor": 2
}
